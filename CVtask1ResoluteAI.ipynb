{
  "nbformat": 4,
  "nbformat_minor": 0,
  "metadata": {
    "colab": {
      "provenance": [],
      "gpuType": "T4"
    },
    "kernelspec": {
      "name": "python3",
      "display_name": "Python 3"
    },
    "language_info": {
      "name": "python"
    },
    "accelerator": "GPU"
  },
  "cells": [
    {
      "cell_type": "code",
      "source": [
        "pip install opencv-python-headless pytesseract"
      ],
      "metadata": {
        "colab": {
          "base_uri": "https://localhost:8080/"
        },
        "id": "s-7MAfmB9Qu1",
        "outputId": "d2cdf674-cfd4-44d0-ce24-b680c50ea012"
      },
      "execution_count": 1,
      "outputs": [
        {
          "output_type": "stream",
          "name": "stdout",
          "text": [
            "Requirement already satisfied: opencv-python-headless in /usr/local/lib/python3.10/dist-packages (4.8.0.76)\n",
            "Collecting pytesseract\n",
            "  Downloading pytesseract-0.3.10-py3-none-any.whl (14 kB)\n",
            "Requirement already satisfied: numpy>=1.21.2 in /usr/local/lib/python3.10/dist-packages (from opencv-python-headless) (1.23.5)\n",
            "Requirement already satisfied: packaging>=21.3 in /usr/local/lib/python3.10/dist-packages (from pytesseract) (23.1)\n",
            "Requirement already satisfied: Pillow>=8.0.0 in /usr/local/lib/python3.10/dist-packages (from pytesseract) (9.4.0)\n",
            "Installing collected packages: pytesseract\n",
            "Successfully installed pytesseract-0.3.10\n"
          ]
        }
      ]
    },
    {
      "cell_type": "code",
      "source": [
        "!apt-get install tesseract-ocr"
      ],
      "metadata": {
        "colab": {
          "base_uri": "https://localhost:8080/"
        },
        "id": "mK7xikAQArW4",
        "outputId": "fb793acc-56b5-4c19-db61-91ea96b5477c"
      },
      "execution_count": 3,
      "outputs": [
        {
          "output_type": "stream",
          "name": "stdout",
          "text": [
            "Reading package lists... Done\n",
            "Building dependency tree... Done\n",
            "Reading state information... Done\n",
            "The following additional packages will be installed:\n",
            "  tesseract-ocr-eng tesseract-ocr-osd\n",
            "The following NEW packages will be installed:\n",
            "  tesseract-ocr tesseract-ocr-eng tesseract-ocr-osd\n",
            "0 upgraded, 3 newly installed, 0 to remove and 18 not upgraded.\n",
            "Need to get 4,816 kB of archives.\n",
            "After this operation, 15.6 MB of additional disk space will be used.\n",
            "Get:1 http://archive.ubuntu.com/ubuntu jammy/universe amd64 tesseract-ocr-eng all 1:4.00~git30-7274cfa-1.1 [1,591 kB]\n",
            "Get:2 http://archive.ubuntu.com/ubuntu jammy/universe amd64 tesseract-ocr-osd all 1:4.00~git30-7274cfa-1.1 [2,990 kB]\n",
            "Get:3 http://archive.ubuntu.com/ubuntu jammy/universe amd64 tesseract-ocr amd64 4.1.1-2.1build1 [236 kB]\n",
            "Fetched 4,816 kB in 1s (8,209 kB/s)\n",
            "Selecting previously unselected package tesseract-ocr-eng.\n",
            "(Reading database ... 120901 files and directories currently installed.)\n",
            "Preparing to unpack .../tesseract-ocr-eng_1%3a4.00~git30-7274cfa-1.1_all.deb ...\n",
            "Unpacking tesseract-ocr-eng (1:4.00~git30-7274cfa-1.1) ...\n",
            "Selecting previously unselected package tesseract-ocr-osd.\n",
            "Preparing to unpack .../tesseract-ocr-osd_1%3a4.00~git30-7274cfa-1.1_all.deb ...\n",
            "Unpacking tesseract-ocr-osd (1:4.00~git30-7274cfa-1.1) ...\n",
            "Selecting previously unselected package tesseract-ocr.\n",
            "Preparing to unpack .../tesseract-ocr_4.1.1-2.1build1_amd64.deb ...\n",
            "Unpacking tesseract-ocr (4.1.1-2.1build1) ...\n",
            "Setting up tesseract-ocr-eng (1:4.00~git30-7274cfa-1.1) ...\n",
            "Setting up tesseract-ocr-osd (1:4.00~git30-7274cfa-1.1) ...\n",
            "Setting up tesseract-ocr (4.1.1-2.1build1) ...\n",
            "Processing triggers for man-db (2.10.2-1) ...\n"
          ]
        }
      ]
    },
    {
      "cell_type": "code",
      "source": [
        "import cv2\n",
        "import pytesseract\n",
        "\n",
        "# Function to extract text from an image\n",
        "def extract_text_from_image(image_path):\n",
        "    # Load the image using openCV\n",
        "    image = cv2.imread(image_path)\n",
        "\n",
        "    # Convert the image to grayscale for better text extraction\n",
        "    gray_image = cv2.cvtColor(image, cv2.COLOR_BGR2GRAY)\n",
        "\n",
        "    # Perform OCR (Optical Character Recognition) using Py-Tesseract\n",
        "    extracted_text = pytesseract.image_to_string(gray_image)\n",
        "\n",
        "    return extracted_text\n",
        "\n",
        "# Giving the path to your image or PDF\n",
        "image_path = '/content/sample_data/3.jpg'\n",
        "extracted_text = extract_text_from_image(image_path)\n",
        "\n",
        "# Print the extracted text\n",
        "print(extracted_text)\n"
      ],
      "metadata": {
        "colab": {
          "base_uri": "https://localhost:8080/"
        },
        "id": "cv8k0idn9Sjy",
        "outputId": "bfef7399-64e5-4d14-8ddc-163f62f2d78a"
      },
      "execution_count": 6,
      "outputs": [
        {
          "output_type": "stream",
          "name": "stdout",
          "text": [
            "Satistied oomveying an dependent contented he gentleman agreeable do be. Warrant\n",
            "private blushes removed an in equally totally if. Delivered dejeotion necessary\n",
            "objection do mr prevailed. Mr feeling do chiefly cordial in do. Water timed folly\n",
            "right aware if oh truth. Imprudence attachment him his for sympathize. Large above\n",
            "be to means. Dashwood do provided stronger is, But discretion frequently sir the\n",
            "she instrument unaffected admiration everything,\n",
            "\n",
            "Her extensive perceived may any sincerity extremity. Indeed add rather may pretty\n",
            "see. Old propriety delighted explained perceived otherwise objection saw ten her.\n",
            "Doubt merit sir the right these alone keeps. By sometimes intention smallness he\n",
            "northward. Consisted we otherwise arranging commanded disoovery it explained.\n",
            "Does cold even song like two yet been. Literature interested announcing for\n",
            "terminated him inquietude day shy. Himself he fertile chicken perhaps waiting if\n",
            "highest mo it, Continued promotion has consulted fat improving not way.\n",
            "\n",
            "Far quitting dwelling graceful the likewise received building. An fact so to that\n",
            "show am shed sold cold. Unattected remarkably get yet introduced excellence\n",
            "terminated led. Result either design saw she esteem and. On ashamed no inhabit\n",
            "terrars it ye besides resolve. Own judgment directly few trifling. Elderly as\n",
            "pursuit at regular do parlors. Rank what has into fond she.\n",
            "\n",
            "Of friendship on inhabiting diminution disoovered as. Did friendly eat breeding\n",
            "building few mor. Object he barton no effect played valley afford. Period so to\n",
            "oppose we little seeing or branch. Announcing contrasted not imprudence add\n",
            "frequently you possession mrs. Period saw his houses square and misery. Hour had\n",
            "held lain give yet.\n",
            "\f\n"
          ]
        }
      ]
    },
    {
      "cell_type": "code",
      "source": [],
      "metadata": {
        "id": "vJ2E5Geh91b0"
      },
      "execution_count": null,
      "outputs": []
    }
  ]
}